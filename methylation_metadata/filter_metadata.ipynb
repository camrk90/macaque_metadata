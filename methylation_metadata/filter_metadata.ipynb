{
 "cells": [
  {
   "cell_type": "code",
   "execution_count": 1,
   "id": "00570860",
   "metadata": {},
   "outputs": [],
   "source": [
    "#Import packages\n",
    "import pandas as pd"
   ]
  },
  {
   "cell_type": "code",
   "execution_count": 47,
   "id": "d24588cc",
   "metadata": {},
   "outputs": [],
   "source": [
    "#Set session path\n",
    "location=input(\"Where are you working today? (Options: 'locally', 'SOL')\")\n",
    "\n",
    "if location=='locally':\n",
    "    path='/Users/cameronkelsey/Documents/smack_lab/cayo_data/'\n",
    "elif location=='SOL':\n",
    "    path='/scratch/ckelsey4/Cayo_meth'\n",
    "\n",
    "#Load in metadata\n",
    "metadata=pd.read_table(f'{path}metadata_temp_clean_241106.txt', sep=r'\\s+')\n",
    "\n",
    "#Subset metadata to whole blood\n",
    "blood_metadata=metadata[metadata['grantparent_tissueType'] == 'whole_blood'].dropna(subset='age_at_sampling')"
   ]
  },
  {
   "cell_type": "code",
   "execution_count": 48,
   "id": "2abab66a",
   "metadata": {},
   "outputs": [],
   "source": [
    "#Extract pid from lid_pid column and move pid column next to lid column\n",
    "blood_metadata['pid']=blood_metadata.lid_pid.str.extract('(PID_.*)')\n",
    "\n",
    "col_to_move=blood_metadata.pop(\"pid\")\n",
    "lid_loc=blood_metadata.columns.get_loc(\"lid\")+1\n",
    "blood_metadata.insert(lid_loc, \"pid\", col_to_move)\n"
   ]
  },
  {
   "cell_type": "code",
   "execution_count": 49,
   "id": "66231f22",
   "metadata": {},
   "outputs": [],
   "source": [
    "#Generate column for university batch effects based on prep_date\n",
    "blood_metadata['university']='uw'\n",
    "blood_metadata.loc[blood_metadata['prep_date'] > '2020-01-01', 'university']='asu'\n"
   ]
  },
  {
   "cell_type": "code",
   "execution_count": null,
   "id": "95246d33",
   "metadata": {},
   "outputs": [],
   "source": [
    "#Generate longitudinal metadata df\n",
    "ids_to_keep=blood_metadata.groupby('monkey_id').size().reset_index(name='counts')\n",
    "long_data=blood_metadata[blood_metadata['monkey_id'].isin(ids_to_keep[ids_to_keep['counts']>1]['monkey_id'])]\n",
    "\n",
    "long_data=long_data.copy()\n",
    "\n",
    "#Generate within.age and between.age cols\n",
    "long_data.loc[:, 'between.age']=long_data.groupby('monkey_id')['age_at_sampling'].transform('mean')\n",
    "long_data.loc[:, 'within.age']=long_data.groupby('monkey_id')['age_at_sampling'].transform(lambda x: x - x.mean())\n",
    "\n",
    "#At this point the longitudinal df has duplicates for some monkey_ids where the age_at_sampling is the same.\n",
    "#The select_lids.R script will deal with this by picking the lid_pid with the largest m/cov "
   ]
  },
  {
   "cell_type": "code",
   "execution_count": null,
   "id": "1c87d8eb",
   "metadata": {},
   "outputs": [],
   "source": [
    "blood_metadata.to_csv(f'{path}blood_metadata_full.txt', sep='\\t', index=False, header=True)\n",
    "long_data.to_csv(f'{path}long_data.txt', sep='\\t', index=False, header=True)"
   ]
  }
 ],
 "metadata": {
  "kernelspec": {
   "display_name": ".venv",
   "language": "python",
   "name": "python3"
  },
  "language_info": {
   "codemirror_mode": {
    "name": "ipython",
    "version": 3
   },
   "file_extension": ".py",
   "mimetype": "text/x-python",
   "name": "python",
   "nbconvert_exporter": "python",
   "pygments_lexer": "ipython3",
   "version": "3.12.3"
  }
 },
 "nbformat": 4,
 "nbformat_minor": 5
}
